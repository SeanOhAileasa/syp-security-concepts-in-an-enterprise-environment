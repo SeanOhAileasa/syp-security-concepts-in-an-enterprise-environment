{
 "cells": [
  {
   "cell_type": "markdown",
   "id": "d4ee9e4b",
   "metadata": {},
   "source": [
    "***\n",
    "< [Home](https://github.com/SeanOhAileasa) | [README](https://github.com/SeanOhAileasa/syp-security-concepts-in-an-enterprise-environment/blob/main/README.md) >\n",
    "\n",
    "## CompTIA Security+ - Course Material 2022\n",
    "###### Topic: ``Security Concepts in an Enterprise Environment``\n",
    "***"
   ]
  },
  {
   "cell_type": "markdown",
   "id": "b82b07fb",
   "metadata": {},
   "source": [
    "Course material for the ``CompTIA Security+`` module of the ``ICT Associate Apprenticeship (Cybersecurity)`` programme."
   ]
  },
  {
   "cell_type": "markdown",
   "id": "e7228f57",
   "metadata": {},
   "source": [
    "<a id=\"top\"></a>\n",
    "***\n",
    "## Table of Contents\n",
    "***"
   ]
  },
  {
   "cell_type": "markdown",
   "id": "c2bb5e7b",
   "metadata": {},
   "source": [
    "### [Security Concepts in an Enterprise Environment](#SecurityConceptsinanEnterpriseEnvironment) <br/><br/>\n",
    "<hr width=50%;>"
   ]
  },
  {
   "cell_type": "markdown",
   "id": "eb6b7b72",
   "metadata": {},
   "source": [
    "### [Change and Configuration Management](#ChangeandConfigurationManagement) <br/><br/>\n",
    "<hr width=50%;>"
   ]
  },
  {
   "cell_type": "markdown",
   "id": "ae6b2297",
   "metadata": {},
   "source": [
    "### [Data Sovereignty](#DataSovereignty) <br/><br/>\n",
    "<hr width=50%;>"
   ]
  },
  {
   "cell_type": "markdown",
   "id": "743d2c35",
   "metadata": {},
   "source": [
    "### [Data Protection](#DataProtection) <br/><br/>\n",
    "<hr width=50%;>"
   ]
  },
  {
   "cell_type": "markdown",
   "id": "2cff9a31",
   "metadata": {},
   "source": [
    "### [Hardware Security Modules](#HardwareSecurityModules) <br/><br/>\n",
    "<hr width=50%;>"
   ]
  },
  {
   "cell_type": "markdown",
   "id": "7b1ff93b",
   "metadata": {},
   "source": [
    "### [Geographical Considerations](#GeographicalConsiderations) <br/><br/>\n",
    "<hr width=50%;>"
   ]
  },
  {
   "cell_type": "markdown",
   "id": "807eb788",
   "metadata": {},
   "source": [
    "### [Cloud Access Security Brokers](#CloudAccessSecurityBrokers) <br/><br/>\n",
    "<hr width=50%;>"
   ]
  },
  {
   "cell_type": "markdown",
   "id": "a2e26f92",
   "metadata": {},
   "source": [
    "### [Response and Recovery Controls](#ResponseandRecoveryControls) <br/><br/>\n",
    "<hr width=50%;>"
   ]
  },
  {
   "cell_type": "markdown",
   "id": "7505d502",
   "metadata": {},
   "source": [
    "### [SSL/TLS Inspection](#SSLTLSInspection) <br/><br/>\n",
    "<hr width=50%;>"
   ]
  },
  {
   "cell_type": "markdown",
   "id": "574380b6",
   "metadata": {},
   "source": [
    "### [Hashing and API Considerations](#HashingandAPIConsiderations) <br/><br/>\n",
    "<hr width=50%;>"
   ]
  },
  {
   "cell_type": "markdown",
   "id": "361c4240",
   "metadata": {},
   "source": [
    "### [Site Resiliency](#SiteResiliency) <br/><br/>\n",
    "<hr width=50%;>"
   ]
  },
  {
   "cell_type": "markdown",
   "id": "06c8d646",
   "metadata": {},
   "source": [
    "### [Deception and Disruption](#DeceptionandDisruption) <br/><br/>\n",
    "<hr width=50%;>"
   ]
  },
  {
   "cell_type": "markdown",
   "id": "6c75e0ce",
   "metadata": {},
   "source": [
    "### [Course Summary](#CourseSummary) <br/><br/>\n",
    "<hr width=50%;>"
   ]
  },
  {
   "cell_type": "markdown",
   "id": "bf2b95e2",
   "metadata": {},
   "source": [
    "***\n",
    "## END"
   ]
  },
  {
   "cell_type": "markdown",
   "id": "34aa6eb5",
   "metadata": {},
   "source": [
    "< [Table of Contents](#top) | [References](#references) >\n",
    "<a id=\"SecurityConceptsinanEnterpriseEnvironment\"></a>\n",
    "***\n",
    "### Security Concepts in an Enterprise Environment\n",
    "***"
   ]
  },
  {
   "cell_type": "markdown",
   "id": "173e78b5",
   "metadata": {},
   "source": [
    "As a security specialist, you need to be familiar with and apply a range of security concpets related to operating in an enterprise environment. In this course, you'll explore enterprise security factors like change and configuration management, as well as data sovereignty, protection, and loss prevention. You'll learn about hardware security modules, geographical considerations, cloud access security brokers. You'll move on to examine response and recovery controls, SSL/TLS inspection, and site resiliency. Finally, you'll learn about deception and disruption techniques using honeypots, honeyfiles, honeynets, fake telemetry, and DNS sinkholes. This course can be used in preparation for the CompTIA Security+ SY0-601 certification exam."
   ]
  },
  {
   "cell_type": "markdown",
   "id": "38b64205",
   "metadata": {},
   "source": [
    "Objectives\n",
    "\n",
    "- discover the key concepts covered in this course <br/><br/>\n",
    "- define change and configuration management concepts like diagram, baseline configurations, standard naming conventions, and documenting the IP schema <br/><br/>\n",
    "- describe data sovereignty, the conversion and storage of data in binary digital form, and how data is subject to the laws of the located country <br/><br/>\n",
    "- describe data protection including topics like data loss prevention, masking, and encryption <br/><br/>\n",
    "- identify key roles of hardware security modules (HSMs) in providing hardened, tamper-resistant devices that generate keys, encrypt and decrypt data, and create and verify digital signatures <br/><br/>\n",
    "- recognize geographic factors such as jurisdictions, privacy laws, import-export restrictions, and cryptographic regulations <br/><br/>\n",
    "- describe the on-premises or cloud-based CASB security policy enforcement points that are set between cloud service providers and their consumers <br/><br/>\n",
    "- compare response and recovery controls as a part of enterprise business continuity and disaster recovery <br/><br/>\n",
    "- describe SSL/TLS inspection accomplished by next-generation firewalls, WAF solutions, and other cloud-based techniques <br/><br/>\n",
    "- describe hashing and application programming interfaces and the importance of digitally signing all API calls <br/><br/>\n",
    "- describe types of site resiliency including hot site, cold site, and warm site solutions <br/><br/>\n",
    "- define deception and disruption techniques using honeypots, honey tokens, honeyfiles, honeynets, fake telemetry, and DNS sinkholes <br/><br/>\n",
    "- discover the key concepts covered in this course <br/><br/>"
   ]
  },
  {
   "cell_type": "markdown",
   "id": "84b00380",
   "metadata": {},
   "source": [
    "< [Table of Contents](#top) | [References](#references) >\n",
    "<a id=\"ChangeandConfigurationManagement\"></a>\n",
    "***\n",
    "### Change and Configuration Management\n",
    "***"
   ]
  },
  {
   "cell_type": "markdown",
   "id": "d82d85d7",
   "metadata": {},
   "source": []
  },
  {
   "cell_type": "markdown",
   "id": "b4da2efe",
   "metadata": {},
   "source": [
    "< [Table of Contents](#top) | [References](#references) >\n",
    "<a id=\"DataSovereignty\"></a>\n",
    "***\n",
    "### Data Sovereignty\n",
    "***"
   ]
  },
  {
   "cell_type": "markdown",
   "id": "70f6e846",
   "metadata": {},
   "source": []
  },
  {
   "cell_type": "markdown",
   "id": "7b10c3a2",
   "metadata": {},
   "source": [
    "< [Table of Contents](#top) | [References](#references) >\n",
    "<a id=\"DataProtection\"></a>\n",
    "***\n",
    "### Data Protection\n",
    "***"
   ]
  },
  {
   "cell_type": "markdown",
   "id": "2cc18496",
   "metadata": {},
   "source": []
  },
  {
   "cell_type": "markdown",
   "id": "1ce9ff85",
   "metadata": {},
   "source": [
    "< [Table of Contents](#top) | [References](#references) >\n",
    "<a id=\"HardwareSecurityModules\"></a>\n",
    "***\n",
    "### Hardware Security Modules\n",
    "***"
   ]
  },
  {
   "cell_type": "markdown",
   "id": "8bb9c616",
   "metadata": {},
   "source": []
  },
  {
   "cell_type": "markdown",
   "id": "d87809fd",
   "metadata": {},
   "source": [
    "< [Table of Contents](#top) | [References](#references) >\n",
    "<a id=\"GeographicalConsiderations\"></a>\n",
    "***\n",
    "### Geographical Considerations\n",
    "***"
   ]
  },
  {
   "cell_type": "markdown",
   "id": "f0a909b6",
   "metadata": {},
   "source": []
  },
  {
   "cell_type": "markdown",
   "id": "c781a700",
   "metadata": {},
   "source": [
    "< [Table of Contents](#top) | [References](#references) >\n",
    "<a id=\"CloudAccessSecurityBrokers\"></a>\n",
    "***\n",
    "### Cloud Access Security Brokers\n",
    "***"
   ]
  },
  {
   "cell_type": "markdown",
   "id": "cd41c08d",
   "metadata": {},
   "source": []
  },
  {
   "cell_type": "markdown",
   "id": "1256d7bf",
   "metadata": {},
   "source": [
    "< [Table of Contents](#top) | [References](#references) >\n",
    "<a id=\"ResponseandRecoveryControls\"></a>\n",
    "***\n",
    "### Response and Recovery Controls\n",
    "***"
   ]
  },
  {
   "cell_type": "markdown",
   "id": "3ab13be8",
   "metadata": {},
   "source": []
  },
  {
   "cell_type": "markdown",
   "id": "47707114",
   "metadata": {},
   "source": [
    "< [Table of Contents](#top) | [References](#references) >\n",
    "<a id=\"SSLTLSInspection\"></a>\n",
    "***\n",
    "### SSL/TLS Inspection\n",
    "***"
   ]
  },
  {
   "cell_type": "markdown",
   "id": "5c5eb4ce",
   "metadata": {},
   "source": []
  },
  {
   "cell_type": "markdown",
   "id": "9adeceaf",
   "metadata": {},
   "source": [
    "< [Table of Contents](#top) | [References](#references) >\n",
    "<a id=\"HashingandAPIConsiderations\"></a>\n",
    "***\n",
    "### Hashing and API Considerations\n",
    "***"
   ]
  },
  {
   "cell_type": "markdown",
   "id": "45d2f914",
   "metadata": {},
   "source": []
  },
  {
   "cell_type": "markdown",
   "id": "fd680b58",
   "metadata": {},
   "source": [
    "< [Table of Contents](#top) | [References](#references) >\n",
    "<a id=\"SiteResiliency\"></a>\n",
    "***\n",
    "### Site Resiliency\n",
    "***"
   ]
  },
  {
   "cell_type": "markdown",
   "id": "86a67316",
   "metadata": {},
   "source": []
  },
  {
   "cell_type": "markdown",
   "id": "d438e44b",
   "metadata": {},
   "source": [
    "< [Table of Contents](#top) | [References](#references) >\n",
    "<a id=\"DeceptionandDisruption\"></a>\n",
    "***\n",
    "### Deception and Disruption\n",
    "***"
   ]
  },
  {
   "cell_type": "markdown",
   "id": "6779b825",
   "metadata": {},
   "source": []
  },
  {
   "cell_type": "markdown",
   "id": "bd89bb21",
   "metadata": {},
   "source": [
    "< [Table of Contents](#top) | [References](#references) >\n",
    "<a id=\"CourseSummary\"></a>\n",
    "***\n",
    "### CourseSummary\n",
    "***"
   ]
  },
  {
   "cell_type": "markdown",
   "id": "c9f42d31",
   "metadata": {},
   "source": []
  },
  {
   "cell_type": "markdown",
   "id": "2cc20932",
   "metadata": {},
   "source": [
    "***\n",
    "## END"
   ]
  },
  {
   "cell_type": "markdown",
   "id": "e0e42d51",
   "metadata": {},
   "source": [
    "< [Table of Contents](#top) >\n",
    "<a id=\"references\"></a>\n",
    "***\n",
    "## References\n",
    "***"
   ]
  },
  {
   "cell_type": "markdown",
   "id": "757bf6de",
   "metadata": {},
   "source": [
    "&nbsp;&nbsp;&nbsp;&nbsp;&nbsp;&nbsp;&nbsp;&nbsp;&nbsp;eCollege, \"Security Concepts in an Enterprise Environment,\" [ecollege.ie](https://web.archive.org/web/20220328112908/https://www.ecollege.ie/courses/comptia-security/), n.d.."
   ]
  },
  {
   "cell_type": "markdown",
   "id": "b33c372a",
   "metadata": {},
   "source": [
    "***\n",
    "## END"
   ]
  },
  {
   "cell_type": "markdown",
   "id": "e5961b4d",
   "metadata": {},
   "source": [
    "< [Table of Contents](#top) | [References](#references) >\n",
    "<a id=\"appendix\"></a>\n",
    "***\n",
    "## Appendix\n",
    "***"
   ]
  },
  {
   "cell_type": "markdown",
   "id": "00d82a82",
   "metadata": {},
   "source": [
    "***\n",
    "## END"
   ]
  },
  {
   "cell_type": "code",
   "execution_count": 1,
   "id": "706756a2",
   "metadata": {},
   "outputs": [
    {
     "data": {
      "text/html": [
       "<style>.container { width:100% !important; }</style>"
      ],
      "text/plain": [
       "<IPython.core.display.HTML object>"
      ]
     },
     "metadata": {},
     "output_type": "display_data"
    }
   ],
   "source": [
    "from IPython.core.display import display,HTML\n",
    "display(HTML(\"<style>.container { width:100% !important; }</style>\"))"
   ]
  },
  {
   "cell_type": "markdown",
   "id": "899c1783",
   "metadata": {},
   "source": [
    "# END JUPYTER NOTEBOOK"
   ]
  }
 ],
 "metadata": {
  "kernelspec": {
   "display_name": "Python 3",
   "language": "python",
   "name": "python3"
  },
  "language_info": {
   "codemirror_mode": {
    "name": "ipython",
    "version": 3
   },
   "file_extension": ".py",
   "mimetype": "text/x-python",
   "name": "python",
   "nbconvert_exporter": "python",
   "pygments_lexer": "ipython3",
   "version": "3.8.8"
  }
 },
 "nbformat": 4,
 "nbformat_minor": 5
}
